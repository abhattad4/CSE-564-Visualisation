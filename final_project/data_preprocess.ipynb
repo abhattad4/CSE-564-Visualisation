{
 "cells": [
  {
   "cell_type": "code",
   "execution_count": 5,
   "metadata": {},
   "outputs": [],
   "source": [
    "import pandas as pd\n",
    "import pylab\n",
    "import matplotlib.pyplot as plt"
   ]
  },
  {
   "cell_type": "code",
   "execution_count": 3,
   "metadata": {},
   "outputs": [],
   "source": [
    "df = pd.read_csv('src/data/world-data.csv')"
   ]
  },
  {
   "cell_type": "code",
   "execution_count": 24,
   "metadata": {},
   "outputs": [
    {
     "data": {
      "text/plain": [
       "True"
      ]
     },
     "execution_count": 24,
     "metadata": {},
     "output_type": "execute_result"
    }
   ],
   "source": [
    "# print(df)\n",
    "df['new_cases'].eq(0).any()"
   ]
  },
  {
   "cell_type": "code",
   "execution_count": 17,
   "metadata": {},
   "outputs": [
    {
     "name": "stdout",
     "output_type": "stream",
     "text": [
      "137381701.945\n",
      "2970682.188\n"
     ]
    },
    {
     "data": {
      "image/png": "[encoded data removed]",
      "text/plain": [
       "<Figure size 432x288 with 1 Axes>"
      ]
     },
     "metadata": {
      "needs_background": "light"
     },
     "output_type": "display_data"
    }
   ],
   "source": [
    "a = [pow(2,i) for i in range(10)]\n",
    "fig = plt.figure()\n",
    "ax = fig.add_subplot(2, 1, 1)\n",
    "print(df['new_cases'].sum())\n",
    "print(df['new_deaths'].sum())\n",
    "line, = ax.plot(df['new_cases'], color='blue', lw=2)\n",
    "\n",
    "ax.set_yscale('log')\n",
    "\n",
    "pylab.show()"
   ]
  },
  {
   "cell_type": "code",
   "execution_count": 25,
   "metadata": {},
   "outputs": [],
   "source": [
    "df1= pd.DataFrame(columns=['date','covidattr','numbers'])"
   ]
  },
  {
   "cell_type": "code",
   "execution_count": 29,
   "metadata": {},
   "outputs": [
    {
     "name": "stdout",
     "output_type": "stream",
     "text": [
      "           date  covidattr     numbers\n",
      "0    2020-01-23  new_cases       0.000\n",
      "1    2020-01-24  new_cases       0.000\n",
      "2    2020-01-25  new_cases       0.000\n",
      "3    2020-01-26  new_cases       0.000\n",
      "4    2020-01-27  new_cases       0.000\n",
      "..          ...        ...         ...\n",
      "446  2021-04-13  new_cases  717142.290\n",
      "447  2021-04-14  new_cases  736023.574\n",
      "448  2021-04-15  new_cases  732849.569\n",
      "449  2021-04-16  new_cases  747948.284\n",
      "450  2021-04-17  new_cases  765596.139\n",
      "\n",
      "[451 rows x 3 columns]\n"
     ]
    }
   ],
   "source": [
    "df1['date'] = df['date']\n",
    "df1['covidattr'] = 'new_cases'\n",
    "df1['numbers'] = df['new_cases']\n",
    "print (df1)"
   ]
  },
  {
   "cell_type": "code",
   "execution_count": 31,
   "metadata": {},
   "outputs": [
    {
     "name": "stdout",
     "output_type": "stream",
     "text": [
      "           date   covidattr    numbers\n",
      "0    2020-01-23  new_deaths      0.000\n",
      "1    2020-01-24  new_deaths      0.000\n",
      "2    2020-01-25  new_deaths      0.000\n",
      "3    2020-01-26  new_deaths      0.000\n",
      "4    2020-01-27  new_deaths      0.000\n",
      "..          ...         ...        ...\n",
      "446  2021-04-13  new_deaths  12342.436\n",
      "447  2021-04-14  new_deaths  12156.008\n",
      "448  2021-04-15  new_deaths  11952.859\n",
      "449  2021-04-16  new_deaths  11876.293\n",
      "450  2021-04-17  new_deaths  11819.580\n",
      "\n",
      "[451 rows x 3 columns]\n"
     ]
    }
   ],
   "source": [
    "df2= pd.DataFrame(columns=['date','covidattr','numbers'])\n",
    "df2['date'] = df['date']\n",
    "df2['covidattr'] = 'new_deaths'\n",
    "df2['numbers'] = df['new_deaths']\n",
    "print (df2)"
   ]
  },
  {
   "cell_type": "code",
   "execution_count": 32,
   "metadata": {},
   "outputs": [
    {
     "name": "stdout",
     "output_type": "stream",
     "text": [
      "           date         covidattr     numbers\n",
      "0    2020-01-23  new_vaccinations         0.0\n",
      "1    2020-01-24  new_vaccinations         0.0\n",
      "2    2020-01-25  new_vaccinations         0.0\n",
      "3    2020-01-26  new_vaccinations         0.0\n",
      "4    2020-01-27  new_vaccinations         0.0\n",
      "..          ...               ...         ...\n",
      "446  2021-04-13  new_vaccinations  18279226.0\n",
      "447  2021-04-14  new_vaccinations  18095386.0\n",
      "448  2021-04-15  new_vaccinations  17324039.0\n",
      "449  2021-04-16  new_vaccinations  15101864.0\n",
      "450  2021-04-17  new_vaccinations  12400907.0\n",
      "\n",
      "[451 rows x 3 columns]\n"
     ]
    }
   ],
   "source": [
    "df3= pd.DataFrame(columns=['date','covidattr','numbers'])\n",
    "df3['date'] = df['date']\n",
    "df3['covidattr'] = 'new_vaccinations'\n",
    "df3['numbers'] = df['new_vaccinations']\n",
    "print (df3)"
   ]
  },
  {
   "cell_type": "code",
   "execution_count": 37,
   "metadata": {},
   "outputs": [
    {
     "name": "stdout",
     "output_type": "stream",
     "text": [
      "           date         covidattr       numbers\n",
      "0    2020-01-23         new_cases  0.000000e+00\n",
      "0    2020-01-23  new_vaccinations  0.000000e+00\n",
      "0    2020-01-23        new_deaths  0.000000e+00\n",
      "1    2020-01-24         new_cases  0.000000e+00\n",
      "1    2020-01-24  new_vaccinations  0.000000e+00\n",
      "..          ...               ...           ...\n",
      "449  2021-04-16        new_deaths  1.187629e+04\n",
      "449  2021-04-16         new_cases  7.479483e+05\n",
      "450  2021-04-17         new_cases  7.655961e+05\n",
      "450  2021-04-17        new_deaths  1.181958e+04\n",
      "450  2021-04-17  new_vaccinations  1.240091e+07\n",
      "\n",
      "[1353 rows x 3 columns]\n"
     ]
    }
   ],
   "source": [
    "mergeDf = pd.concat([df1,df2,df3])\n",
    "print(mergeDf.sort_values('date'))\n"
   ]
  },
  {
   "cell_type": "code",
   "execution_count": 39,
   "metadata": {},
   "outputs": [],
   "source": [
    "mergeDf.to_csv('src/data/world-data_1.csv',index=False)"
   ]
  },
  {
   "cell_type": "code",
   "execution_count": null,
   "metadata": {},
   "outputs": [],
   "source": []
  }
 ],
 "metadata": {
  "kernelspec": {
   "display_name": "Python 3",
   "language": "python",
   "name": "python3"
  },
  "language_info": {
   "codemirror_mode": {
    "name": "ipython",
    "version": 3
   },
   "file_extension": ".py",
   "mimetype": "text/x-python",
   "name": "python",
   "nbconvert_exporter": "python",
   "pygments_lexer": "ipython3",
   "version": "3.8.5"
  }
 },
 "nbformat": 4,
 "nbformat_minor": 4
}
